{
  "nbformat": 4,
  "nbformat_minor": 0,
  "metadata": {
    "colab": {
      "name": "Freddie Mac Logistic Regression and Scorecard",
      "version": "0.3.2",
      "provenance": [],
      "collapsed_sections": [],
      "include_colab_link": true
    },
    "kernelspec": {
      "name": "python3",
      "display_name": "Python 3"
    },
    "accelerator": "GPU"
  },
  "cells": [
    {
      "cell_type": "markdown",
      "metadata": {
        "id": "view-in-github",
        "colab_type": "text"
      },
      "source": [
        "<a href=\"https://colab.research.google.com/github/sg2e16/Freddie-Mac-Logistic-Regression-and-Scorecard/blob/master/Freddie_Mac_Logistic_Regression_and_Scorecard.ipynb\" target=\"_parent\"><img src=\"https://colab.research.google.com/assets/colab-badge.svg\" alt=\"Open In Colab\"/></a>"
      ]
    },
    {
      "metadata": {
        "id": "UI5jxMhCNoL1",
        "colab_type": "code",
        "colab": {}
      },
      "cell_type": "code",
      "source": [
        "!rm -rf 'sample_data'"
      ],
      "execution_count": 0,
      "outputs": []
    },
    {
      "metadata": {
        "id": "dbGb4-jeI4G7",
        "colab_type": "text"
      },
      "cell_type": "markdown",
      "source": [
        "**Importing:**"
      ]
    },
    {
      "metadata": {
        "id": "24KoNJdFNtUJ",
        "colab_type": "code",
        "colab": {}
      },
      "cell_type": "code",
      "source": [
        "from google.colab import drive\n",
        "drive.mount('/content/gdrive')"
      ],
      "execution_count": 0,
      "outputs": []
    },
    {
      "metadata": {
        "id": "rkX4q27hOI6a",
        "colab_type": "code",
        "colab": {}
      },
      "cell_type": "code",
      "source": [
        "import pandas as pd\n",
        "import seaborn as sns\n",
        "import numpy as np\n",
        "import matplotlib.pyplot as plt\n",
        "%matplotlib inline\n",
        "!pip install scorecardpy\n",
        "import scorecardpy as sc\n",
        "from sklearn.linear_model import LogisticRegression\n",
        "from sklearn.metrics import roc_auc_score, confusion_matrix\n",
        "from sklearn.metrics import roc_curve\n",
        "from sklearn.ensemble import RandomForestClassifier\n",
        "from sklearn.metrics import roc_auc_score, confusion_matrix, roc_curve\n",
        "from sklearn.model_selection import train_test_split\n",
        "from sklearn.ensemble import GradientBoostingClassifier"
      ],
      "execution_count": 0,
      "outputs": []
    },
    {
      "metadata": {
        "id": "m6lwwA6_OJjP",
        "colab_type": "code",
        "colab": {}
      },
      "cell_type": "code",
      "source": [
        "mdfm = pd.read_csv(\"/content/gdrive/My Drive/MergedDataFM/mergedataFM.csv\")"
      ],
      "execution_count": 0,
      "outputs": []
    },
    {
      "metadata": {
        "id": "aT2ztssc-AEh",
        "colab_type": "text"
      },
      "cell_type": "markdown",
      "source": [
        "**Key:**\n",
        "\n",
        "**CREDIT SCORE -** A number, prepared by third parties, summarizing\n",
        "the borrower’s creditworthiness, which may be indicative of the\n",
        "likelihood that the borrower will timely repay future obligations.\n",
        "Generally, the credit score disclosed is the score known at the time of\n",
        "acquisition and is the score used to originate the mortgage.\n",
        "\n",
        "**FIRST PAYMENT DATE -** The date of the first scheduled mortgage\n",
        "payment due under the terms of the mortgage note.\n",
        "\n",
        "**MATURITY DATE -** The month in which the final monthly payment on\n",
        "the mortgage is scheduled to be made as stated on the original\n",
        "mortgage note.\n",
        "\n",
        "**MORTGAGE INSURANCE PERCENTAGE (MI %) -** The percentage\n",
        "of loss coverage on the loan, at the time of Freddie Mac’s purchase of\n",
        "the mortgage loan that a mortgage insurer is providing to cover losses\n",
        "incurred as a result of a default on the loan. Only primary mortgage\n",
        "insurance that is purchased by the Borrower, lender or Freddie Mac is\n",
        "disclosed. Mortgage insurance that constitutes “credit enhancement”\n",
        "that is not required by Freddie Mac’s Charter is not disclosed.\n",
        "Amounts of mortgage insurance reported by Sellers that are less than\n",
        "1% or greater than 55% will be disclosed as “Not Available,” which will\n",
        "be indicated 999. No MI will be indicated by three zeros.\n",
        "\n",
        "**ORIGINAL COMBINED LOAN-TO-VALUE (CLTV) –** In the case of a\n",
        "purchase mortgage loan, the ratio is obtained by dividing the original\n",
        "mortgage loan amount on the note date plus any secondary mortgage\n",
        "loan amount disclosed by the Seller by the lesser of the mortgaged\n",
        "property’s appraised value on the note date or its purchase price. In\n",
        "the case of a refinance mortgage loan, the ratio is obtained by dividing\n",
        "the original mortgage loan amount on the note date plus any\n",
        "secondary mortgage loan amount disclosed by the Seller by the\n",
        "mortgaged property’s appraised value on the note date. If the\n",
        "secondary financing amount disclosed by the Seller includes a home\n",
        "equity line of credit, then the CLTV calculation reflects the disbursed\n",
        "amount at closing of the first lien mortgage loan, not the maximum\n",
        "loan amount available under the home equity line of credit. In the\n",
        "case of a seasoned mortgage loan, if the Seller cannot warrant that\n",
        "the value of the mortgaged property has not declined since the note\n",
        "date, Freddie Mac requires that the Seller must provide a new\n",
        "appraisal value, which is used in the CLTV calculation. In certain\n",
        "cases, where the Seller delivered a loan to Freddie Mac with a special\n",
        "code indicating additional secondary mortgage loan amounts, those\n",
        "amounts may have been included in the CLTV calculation.\n",
        "If the LTV is < 80 or > 200 or Not Available, set the CLTV to ‘Not\n",
        "Available.’ If the CLTV is < LTV, set the CLTV to ‘Not Available.’\n",
        "This disclosure is subject to the widely varying standards originators\n",
        "use to verify Borrowers’ secondary mortgage loan amounts and will\n",
        "not be updated.\n",
        "\n",
        "**ORIGINAL DEBT-TO-INCOME (DTI) RATIO -** Disclosure of the debt\n",
        "to income ratio is based on (1) the sum of the borrower's monthly debt\n",
        "payments, including monthly housing expenses that incorporate the\n",
        "mortgage payment the borrower is making at the time of the delivery\n",
        "of the mortgage loan to Freddie Mac, divided by (2) the total monthly\n",
        "income used to underwrite the loan as of the date of the origination of\n",
        "the such loan.\n",
        "Ratios greater than 65% are indicated that data is Not Available. All\n",
        "loans in the HARP dataset will be disclosed as Not Available.\n",
        "This disclosure is subject to the widely varying standards originators\n",
        "use to verify Borrowers’ assets and liabilities and will not be updated. \n",
        "\n",
        "**ORIGINAL UPB -** The UPB of the mortgage on the note date. UPB = Unpaid Principal Balance, this is the portion of the loan at a certain point in time that has not yet been remitted to the lender.Amount will be rounded to  the nearest $1,000.\n",
        "\n",
        "**ORIGINAL LOAN-TO-VALUE (LTV) -** In the case of a purchase\n",
        "mortgage loan, the ratio obtained by dividing the original mortgage\n",
        "loan amount on the note date by the lesser of the mortgaged\n",
        "property’s appraised value on the note date or its purchase price.\n",
        "In the case of a refinance mortgage loan, the ratio obtained by dividing\n",
        "the original mortgage loan amount on the note date and the\n",
        "mortgaged property’s appraised value on the note date.\n",
        "In the case of a seasoned mortgage loan, if the Seller cannot warrant\n",
        "that the value of the mortgaged property has not declined since the\n",
        "note date, Freddie Mac requires that the Seller must provide a new\n",
        "appraisal value, which is used in the LTV calculation.\n",
        "\n",
        "**ORIGINAL INTEREST RATE -** The original note rate as indicated on\n",
        "the mortgage note.\n",
        "\n",
        "**PREPAYMENT PENALTY MORTGAGE (PPM) FLAG -** Denotes\n",
        "whether the mortgage is a PPM. A PPM is a mortgage with respect to\n",
        "which the borrower is, or at any time has been, obligated to pay a\n",
        "penalty in the event of certain repayments of principal.\n",
        "\n",
        "Y = PPM\n",
        "N = Not PPM\n",
        "\n",
        "**PROPERTY STATE -** A two-letter abbreviation indicating the state or\n",
        "territory within which the property securing the mortgage is located.\n",
        "\n",
        "**PROPERTY TYPE -** Denotes whether the property type secured by\n",
        "the mortgage is a condominium, leasehold, planned unit development\n",
        "(PUD), cooperative share, manufactured home, or Single Family\n",
        "home.\n",
        "If the Property Type is Not Available, this will be indicated by 99. \n",
        "\n",
        "**LOAN SEQUENCE NUMBER -** Unique identifier assigned to each\n",
        "loan. \n",
        "\n",
        "**ORIGINAL LOAN TERM -** A calculation of the number of scheduled\n",
        "monthly payments of the mortgage based on the First Payment Date\n",
        "and Maturity Date.\n",
        "\n",
        "**SERVICER NAME -** The entity acting in its capacity as the servicer of\n",
        "mortgages to Freddie Mac as of the last period for which loan activity\n",
        "is reported in the Dataset.\n",
        "Servicer Name will be disclosed for servicers with a total Original UPB\n",
        "representing 1% or more of the total Original UPB of all loans in the\n",
        "Dataset for a given calendar quarter. Otherwise, the Servicer Name\n",
        "will be set to “Other Servicers”.\n",
        "\n",
        "**Default -** Creating default value \"1\" or \"0\" on current loan deliquency status that are >= 6 and on zero balance code that = 2, 3, 9, 15."
      ]
    },
    {
      "metadata": {
        "id": "2sdw-WkAi6Rl",
        "colab_type": "code",
        "colab": {}
      },
      "cell_type": "code",
      "source": [
        "indexNames = mdfm[mdfm['FirstPaymentDate'] >= 201500 ].index\n",
        "mdfm.drop(indexNames , inplace=True)"
      ],
      "execution_count": 0,
      "outputs": []
    },
    {
      "metadata": {
        "id": "AAOs2mR6jOAC",
        "colab_type": "code",
        "colab": {}
      },
      "cell_type": "code",
      "source": [
        "mdfm.sort_values(\"FirstPaymentDate\", inplace = True)\n",
        "mdfm.head(449798)"
      ],
      "execution_count": 0,
      "outputs": []
    },
    {
      "metadata": {
        "id": "ru60wJTUJGIo",
        "colab_type": "text"
      },
      "cell_type": "markdown",
      "source": [
        "**Exploratory Data Analysis:**"
      ]
    },
    {
      "metadata": {
        "id": "XpmW7ef2YMsC",
        "colab_type": "code",
        "colab": {}
      },
      "cell_type": "code",
      "source": [
        "##Listing the columns\n",
        "cols = list(mdfm.columns.values)\n",
        "print(cols)"
      ],
      "execution_count": 0,
      "outputs": []
    },
    {
      "metadata": {
        "id": "tas3ModHZui3",
        "colab_type": "code",
        "colab": {}
      },
      "cell_type": "code",
      "source": [
        "##Reordering the columns\n",
        "mdfm = mdfm [['LoanSequenceNumber',         ## 1\n",
        "              'FirstPaymentDate',           ## 2\n",
        "              'MaturityDate',               ## 3\n",
        "              'CreditScore',                ## 4\n",
        "              'MortgageInsurancePercentage',## 5\n",
        "              'OroginalCLTV',               ## 6\n",
        "              'OriginalDTIRatio',           ## 7\n",
        "              'OriginalUPB',                ## 8\n",
        "              'OriginalLTV',                ## 9\n",
        "              'OriginalInterestRate',       ## 10\n",
        "              'OriginalLoanTerm',           ## 11\n",
        "              'PPMFlag',                    ## 12\n",
        "              'PropertyState',              ## 13\n",
        "              'PropertyType',               ## 14\n",
        "              'ServiceName',                ## 15              \n",
        "              'Default']]                   ## 16\n",
        "mdfm.head(10)"
      ],
      "execution_count": 0,
      "outputs": []
    },
    {
      "metadata": {
        "id": "33znKROxO8Bx",
        "colab_type": "code",
        "colab": {}
      },
      "cell_type": "code",
      "source": [
        "mdfm.shape"
      ],
      "execution_count": 0,
      "outputs": []
    },
    {
      "metadata": {
        "id": "E9UZOJzgRjw5",
        "colab_type": "code",
        "colab": {}
      },
      "cell_type": "code",
      "source": [
        "mdfm.info()"
      ],
      "execution_count": 0,
      "outputs": []
    },
    {
      "metadata": {
        "id": "VKeJHqrwuG-S",
        "colab_type": "code",
        "colab": {}
      },
      "cell_type": "code",
      "source": [
        "count_no_Def = len(mdfm[mdfm['Default']==0])\n",
        "count_Def = len(mdfm[mdfm['Default']==1])\n",
        "pct_of_no_Def = count_no_Def/(count_no_Def+count_Def)\n",
        "print(\"Percentage of no Default is\", pct_of_no_Def*100)\n",
        "pct_of_Def = count_Def/(count_no_Def+count_Def)\n",
        "print(\"Percentage of Default\", pct_of_Def*100)"
      ],
      "execution_count": 0,
      "outputs": []
    },
    {
      "metadata": {
        "id": "ktqsc-E4Pn3O",
        "colab_type": "text"
      },
      "cell_type": "markdown",
      "source": [
        "**Null Values identifacation and cleaning:**\n",
        "\n",
        "If the Max Value Below  is equal to 9999, 999 or 99 then a Null Value is present."
      ]
    },
    {
      "metadata": {
        "id": "drTn5IXbPQ10",
        "colab_type": "code",
        "colab": {}
      },
      "cell_type": "code",
      "source": [
        "mdfm.describe()"
      ],
      "execution_count": 0,
      "outputs": []
    },
    {
      "metadata": {
        "id": "IVvDhzp4miTR",
        "colab_type": "code",
        "colab": {}
      },
      "cell_type": "code",
      "source": [
        "##Drops 63 Cases\n",
        "indexNames = mdfm[mdfm['MortgageInsurancePercentage'] == 999 ].index\n",
        "mdfm.drop(indexNames , inplace=True)"
      ],
      "execution_count": 0,
      "outputs": []
    },
    {
      "metadata": {
        "id": "zyfSys6foBE0",
        "colab_type": "code",
        "colab": {}
      },
      "cell_type": "code",
      "source": [
        "##Drops 18 Cases\n",
        "indexNames = mdfm[mdfm['OroginalCLTV'] == 999 ].index\n",
        "mdfm.drop(indexNames , inplace=True)"
      ],
      "execution_count": 0,
      "outputs": []
    },
    {
      "metadata": {
        "id": "BYD2DWvRo-YZ",
        "colab_type": "code",
        "colab": {}
      },
      "cell_type": "code",
      "source": [
        "##Drops 14 Cases\n",
        "indexNames = mdfm[mdfm['OriginalLTV'] == 999 ].index\n",
        "mdfm.drop(indexNames , inplace=True)"
      ],
      "execution_count": 0,
      "outputs": []
    },
    {
      "metadata": {
        "id": "YRhm3-RLtQS8",
        "colab_type": "code",
        "colab": {}
      },
      "cell_type": "code",
      "source": [
        "##Drops 23 Cases\n",
        "mdfm.loc[mdfm['PropertyType'] == '99' , 'PropertyType'] = np.nan\n",
        "mdfm.dropna(inplace=True)\n",
        "##mdfm['PropertyType'].value_counts(dropna=False)"
      ],
      "execution_count": 0,
      "outputs": []
    },
    {
      "metadata": {
        "id": "fkwCAypRoWK6",
        "colab_type": "code",
        "colab": {}
      },
      "cell_type": "code",
      "source": [
        "##Edits 925 Cases of \"CreditScore\" to the mean\n",
        "mdfm.loc[mdfm['CreditScore'] == 9999, 'CreditScore'] = np.nan\n",
        "mdfm['CreditScore'].fillna((mdfm['CreditScore'].mean()), inplace=True)"
      ],
      "execution_count": 0,
      "outputs": []
    },
    {
      "metadata": {
        "id": "Ej90UKzcoHTW",
        "colab_type": "code",
        "colab": {}
      },
      "cell_type": "code",
      "source": [
        "##Edits 5032 Cases of \"OriginalDTIRatio\" to the mean\n",
        "mdfm.loc[mdfm['OriginalDTIRatio'] == 999, 'OriginalDTIRatio'] = np.nan\n",
        "mdfm['OriginalDTIRatio'].fillna((mdfm['OriginalDTIRatio'].mean()), inplace=True)"
      ],
      "execution_count": 0,
      "outputs": []
    },
    {
      "metadata": {
        "id": "afM1QKP6dRoY",
        "colab_type": "code",
        "colab": {}
      },
      "cell_type": "code",
      "source": [
        "##mdfm.head()"
      ],
      "execution_count": 0,
      "outputs": []
    },
    {
      "metadata": {
        "id": "9Jm8geg5n8ll",
        "colab_type": "code",
        "colab": {}
      },
      "cell_type": "code",
      "source": [
        "##mdfm.describe()"
      ],
      "execution_count": 0,
      "outputs": []
    },
    {
      "metadata": {
        "id": "_udH2OVUKQd_",
        "colab_type": "text"
      },
      "cell_type": "markdown",
      "source": [
        "**Identifying Outliers:**"
      ]
    },
    {
      "metadata": {
        "id": "heC5q04pRGJ6",
        "colab_type": "code",
        "colab": {}
      },
      "cell_type": "code",
      "source": [
        "##Creates the pair plot (hashed out for load times) \n",
        "##sns.pairplot(mdfm.iloc[:,3:11])"
      ],
      "execution_count": 0,
      "outputs": []
    },
    {
      "metadata": {
        "id": "ft9i4H0rRKfi",
        "colab_type": "code",
        "colab": {}
      },
      "cell_type": "code",
      "source": [
        "##box = mdfm.iloc[:,3:11].boxplot(grid=False, rot=45, fontsize=13)"
      ],
      "execution_count": 0,
      "outputs": []
    },
    {
      "metadata": {
        "id": "C2rVmGgqRLvI",
        "colab_type": "code",
        "colab": {}
      },
      "cell_type": "code",
      "source": [
        "##Cut below 550 !Unknown!\n",
        "sns.distplot(mdfm['CreditScore'])"
      ],
      "execution_count": 0,
      "outputs": []
    },
    {
      "metadata": {
        "id": "rj17Y0Zki6hT",
        "colab_type": "code",
        "colab": {}
      },
      "cell_type": "code",
      "source": [
        "## !Unknown! Cut after 40\n",
        "sns.distplot(mdfm['MortgageInsurancePercentage'])"
      ],
      "execution_count": 0,
      "outputs": []
    },
    {
      "metadata": {
        "id": "ttS_14Vam25P",
        "colab_type": "code",
        "colab": {}
      },
      "cell_type": "code",
      "source": [
        "##Cut above 124\n",
        "sns.distplot(mdfm['OroginalCLTV'])"
      ],
      "execution_count": 0,
      "outputs": []
    },
    {
      "metadata": {
        "id": "AhI1_2fBnQ0k",
        "colab_type": "code",
        "colab": {}
      },
      "cell_type": "code",
      "source": [
        "##Keep\n",
        "sns.distplot(mdfm['OriginalDTIRatio'])"
      ],
      "execution_count": 0,
      "outputs": []
    },
    {
      "metadata": {
        "id": "gqTtLM3TncgS",
        "colab_type": "code",
        "colab": {}
      },
      "cell_type": "code",
      "source": [
        "##Cut above 800000 !Unsure!\n",
        "sns.distplot(mdfm['OriginalUPB'])"
      ],
      "execution_count": 0,
      "outputs": []
    },
    {
      "metadata": {
        "id": "M7Em3pGQnoaK",
        "colab_type": "code",
        "colab": {}
      },
      "cell_type": "code",
      "source": [
        "##Cut below 20\n",
        "sns.distplot(mdfm['OriginalLTV'])"
      ],
      "execution_count": 0,
      "outputs": []
    },
    {
      "metadata": {
        "id": "bMs6L0HznwG7",
        "colab_type": "code",
        "colab": {}
      },
      "cell_type": "code",
      "source": [
        "##Keep maybe cut above 10\n",
        "sns.distplot(mdfm['OriginalInterestRate'])"
      ],
      "execution_count": 0,
      "outputs": []
    },
    {
      "metadata": {
        "id": "iuHfmDP1n6-s",
        "colab_type": "code",
        "colab": {}
      },
      "cell_type": "code",
      "source": [
        "##Cut above 500 below 120\n",
        "sns.distplot(mdfm['OriginalLoanTerm'])"
      ],
      "execution_count": 0,
      "outputs": []
    },
    {
      "metadata": {
        "id": "d6ShUXuTBPZk",
        "colab_type": "code",
        "colab": {}
      },
      "cell_type": "code",
      "source": [
        "##mdfm = mdfm.loc[(mdfm['CreditScore'] >= 550) \n",
        "##                & (mdfm['MortgageInsurancePercentage'] <= 40) \n",
        "##                & (mdfm['OroginalCLTV'] <= 124)\n",
        "##                & (mdfm['OriginalUPB'] <= 800000)\n",
        "##                & (mdfm['OriginalLTV'] >= 20)\n",
        "##                & (mdfm['OriginalInterestRate'] <= 10)\n",
        "##                & (mdfm['OriginalLoanTerm'] <= 120)\n",
        "##                & (mdfm['OriginalLoanTerm'] >= 500)]"
      ],
      "execution_count": 0,
      "outputs": []
    },
    {
      "metadata": {
        "id": "ycYmolUNE3ir",
        "colab_type": "code",
        "colab": {}
      },
      "cell_type": "code",
      "source": [
        "##box = mdfm.iloc[:,3:11].boxplot(grid=False, rot=45, fontsize=13)"
      ],
      "execution_count": 0,
      "outputs": []
    },
    {
      "metadata": {
        "id": "6Elp1Knp7MpA",
        "colab_type": "code",
        "colab": {}
      },
      "cell_type": "code",
      "source": [
        "##mdfm.sort_values(\"FirstPaymentDate\", inplace = True)\n",
        "##mdfm.head(449798)"
      ],
      "execution_count": 0,
      "outputs": []
    },
    {
      "metadata": {
        "id": "ELnixlyWKlRV",
        "colab_type": "text"
      },
      "cell_type": "markdown",
      "source": [
        "**Creating a Training and Test Datasets:**"
      ]
    },
    {
      "metadata": {
        "id": "zH-y1HkbUVXZ",
        "colab_type": "code",
        "colab": {}
      },
      "cell_type": "code",
      "source": [
        "train, test = sc.split_df(mdfm.iloc[:,3:],##:,3:16\n",
        "                          y = 'Default',\n",
        "                           ratio = 0.7, seed = 28845617).values()"
      ],
      "execution_count": 0,
      "outputs": []
    },
    {
      "metadata": {
        "id": "o53nX5UpjLhx",
        "colab_type": "text"
      },
      "cell_type": "markdown",
      "source": [
        "**Checking for independence between features:**"
      ]
    },
    {
      "metadata": {
        "id": "7QHhijrIiv6B",
        "colab_type": "code",
        "colab": {}
      },
      "cell_type": "code",
      "source": [
        "mdfm.corr()"
      ],
      "execution_count": 0,
      "outputs": []
    },
    {
      "metadata": {
        "id": "JdzrZE1agCBY",
        "colab_type": "code",
        "colab": {}
      },
      "cell_type": "code",
      "source": [
        "sns.heatmap(mdfm.corr())"
      ],
      "execution_count": 0,
      "outputs": []
    },
    {
      "metadata": {
        "id": "2X6Yx5cXlv2y",
        "colab_type": "code",
        "colab": {}
      },
      "cell_type": "code",
      "source": [
        "train = train.drop(['OroginalCLTV'],axis = 1)\n",
        "test = test.drop(['OroginalCLTV'],axis = 1)"
      ],
      "execution_count": 0,
      "outputs": []
    },
    {
      "metadata": {
        "id": "ZD87e_jv9KyV",
        "colab_type": "code",
        "colab": {}
      },
      "cell_type": "code",
      "source": [
        "##trainND = train.copy()\n",
        "##trainND.drop(['Default'],axis=1,inplace=True)"
      ],
      "execution_count": 0,
      "outputs": []
    },
    {
      "metadata": {
        "id": "LumtUMm4MrzD",
        "colab_type": "code",
        "colab": {}
      },
      "cell_type": "code",
      "source": [
        "##PPMFlag = pd.get_dummies(trainND['PPMFlag'],drop_first=True)\n",
        "##PropertyState = pd.get_dummies(trainND['PropertyState'],drop_first=True)\n",
        "##PropertyType = pd.get_dummies(trainND['PropertyType'],drop_first=True)\n",
        "##ServiceName = pd.get_dummies(trainND['ServiceName'],drop_first=True)\n",
        "\n",
        "##trainND.drop(['PPMFlag','PropertyState',\n",
        "##           'PropertyType','ServiceName'],axis=1,inplace=True)\n",
        "##trainND = pd.concat([trainND,PPMFlag,PropertyState,PropertyType,ServiceName],axis=1)"
      ],
      "execution_count": 0,
      "outputs": []
    },
    {
      "metadata": {
        "id": "_fkKhUVf63na",
        "colab_type": "code",
        "colab": {}
      },
      "cell_type": "code",
      "source": [
        "##import statsmodels.api as sm\n",
        "##logit_model=sm.Logit(train['Default'],trainND)\n",
        "##result=logit_model.fit(method = 'powell')##method='bfgs'\n",
        "##print(result.summary2())"
      ],
      "execution_count": 0,
      "outputs": []
    },
    {
      "metadata": {
        "id": "khRjN0yBK2NA",
        "colab_type": "text"
      },
      "cell_type": "markdown",
      "source": [
        "**Coding the Nominal Variables using Weights of Evidence (WoE):**"
      ]
    },
    {
      "metadata": {
        "id": "IIly9y1FVETg",
        "colab_type": "code",
        "colab": {}
      },
      "cell_type": "code",
      "source": [
        "##Option \"1\"\n",
        "\n",
        "bins = sc.woebin(train, y = 'Default', \n",
        "                 min_perc_fine_bin=0.02, # How many bins to cut initially into\n",
        "                 min_perc_coarse_bin=0.05,  # Minimum percentage per final bin\n",
        "                 stop_limit=0.1, # Minimum information value \n",
        "                 max_num_bin=8, # Maximum number of bins\n",
        "                 method='tree')"
      ],
      "execution_count": 0,
      "outputs": []
    },
    {
      "metadata": {
        "id": "qhsuuVQtVKUw",
        "colab_type": "code",
        "colab": {}
      },
      "cell_type": "code",
      "source": [
        "sc.woebin_plot(bins)"
      ],
      "execution_count": 0,
      "outputs": []
    },
    {
      "metadata": {
        "id": "ATEjMeHdVToi",
        "colab_type": "code",
        "colab": {}
      },
      "cell_type": "code",
      "source": [
        "##breaks_adj = sc.woebin_adj(train, \"Default\", bins)"
      ],
      "execution_count": 0,
      "outputs": []
    },
    {
      "metadata": {
        "id": "3Ls8oggtVMLN",
        "colab_type": "code",
        "colab": {}
      },
      "cell_type": "code",
      "source": [
        "##The breaks for woe as found by the Manual Bin\n",
        "breaks_adj = {'CreditScore': [690,730,770,790],\n",
        "              'FirstPaymentDate': [200300,200500], ## New\n",
        "              'MaturityDate': [203400.0,203600.0], ## New\n",
        "              'MortgageInsurancePercentage': [8.0,30.0],\n",
        "              'OriginalDTIRatio':[30.0,37.0,46.0,49.0],\n",
        "              'OriginalInterestRate':[4.0,5.0],\n",
        "              'OriginalLTV':[40.0,58.0,82.0,92.0],\n",
        "              'OriginalLoanTerm':[200.0, 300.0 ],##250.0\n",
        "              'OriginalUPB':[70000.0,170000.0,260000.0,400000.0],\n",
        "              'OroginalCLTV':[40.0,58.0,82.0],\n",
        "              'PPMFlag':['N%,%Y'],\n",
        "              'PropertyState':['AK%,%VI%,%GU%,%ND%,%VA%,%KS%,%NE%,%MN%,%CO%,%MO%,%SD%,%WY%,%VT%,%TX%,%TN%,%NC%,%KY%,%WI%,%AR%,%CA%,%NH','DE%,%AL%,%MA%,%IA%,%WA%,%WV%,%MI%,%OR%,%IN%,%UT%,%PA%,%RI%,%OK%,%CT%,%MT%,%IL%,%OH%,%GA%,%MD%,%AZ%,%ID%,%MS%,%LA','ME%,%DC%,%SC%,%NM%,%HI%,%NY%,%NJ%,%NV','PR%,%FL'],\n",
        "              'PropertyType': ['99%,%CP%,%PU','SF','CO%,%MH'],\n",
        "              'ServiceName': ['LAKEVIEWLOANSERVICIN%,%HOMEPOINTFINANCIALCO%,%IMPACMTGECORP%,%LOANDEPOTCOM_LLC%,%MATRIXFINANCIALSERVI%,%FREMONTBANK%,%FREEDOMMTGECORP%,%FRANKLINAMERICANMTGE%,%NEWRESIDENTIALMTGELL%,%FIRSTNATIONWIDEMTGEC%,%PAMMSRTRUST1_LLC%,%COLORADOFEDSAVINGSBA%,%HOMESIDELENDING_INC%,%PHHMTGECORP%,%COLONIALSAVINGS_FA%,%REGIONSBANKDBAREGION%,%SENECAMTGESERVICING_%,%CENDANTMTGECORPORATI%,%SPECIALIZEDLOANSERVI%,%STEARNSLENDING_LLC%,%UNIONSAVINGSBANK%,%ARVESTCENTRALMTGECO%,%AMTRUSTBANK%,%AMERIHOMEMTGECOMPANY%,%WASHINGTONMUTUALHOME%,%PODIUMMTGECAPITALLLC%,%HSBCMTGECORPUSA%,%QUICKENLOANINC','PENNYMACCORP%,%FIFTHTHIRDMTGECO%,%SUNTRUSTMORTGAGE_INC%,%WELLSFARGOHOMEMORTGA%,%PROVIDENTFUNDINGASSO%,%ROUNDPOINTMTGESERVIC%,%PINGORALOANSERVICING%,%CALIBERHOMELOANS_INC%,%PRINCIPALRESIDENTIAL','BRANCHBANKING&TRUSTC%,%OLDKENTMTGECO%,%ALLYBANK%,%FTMTGESERVICES_INC%,%COUNTRYWIDE%,%PNCBANK_NATL%,%WASHINGTONMUTUALBANK%,%CHASEMANHATTANMTGECO%,%USBANKNA%,%CHASEHOMEFINANCELLC%,%GMACMTGECORP%,%CHASEMTGECO%,%NATLCITYMTGECO','FIFTHTHIRDBANK%,%WELLSFARGOBANK_NA%,%TAYLOR_BEAN&WHITAKER%,%RUSHMORELOANMANAGEME%,%GMACMORTGAGE_LLC%,%ABNAMROMTGEGROUP_INC%,%PNCMTGESERVICES_INC%,%Other servicers%,%METLIFEHOMELOANS_ADI%,%CENTRALMTGECO%,%BANKOFAMERICA_NA','JPMORGANCHASEBANK_NA%,%CITIMORTGAGE_INC%,%NATIONSTARMTGELLCDBA%,%FLAGSTARCAPITALMARKE%,%OCWENLOANSERVICING_L%,%BACHOMELOANSERVICING%,%NATIONSTARMTGELLC' ]}"
      ],
      "execution_count": 0,
      "outputs": []
    },
    {
      "metadata": {
        "id": "WCKWOAaJVYvL",
        "colab_type": "code",
        "colab": {}
      },
      "cell_type": "code",
      "source": [
        "##Option \"1\"\n",
        "\n",
        "bins_adj = sc.woebin(train, y=\"Default\", breaks_list=breaks_adj)\n",
        "train_woe = sc.woebin_ply(train, bins_adj)\n",
        "test_woe = sc.woebin_ply(test, bins_adj)"
      ],
      "execution_count": 0,
      "outputs": []
    },
    {
      "metadata": {
        "id": "mK5zgpo0Ai8j",
        "colab_type": "code",
        "colab": {}
      },
      "cell_type": "code",
      "source": [
        "##train_woe.describe()"
      ],
      "execution_count": 0,
      "outputs": []
    },
    {
      "metadata": {
        "id": "SuhBv0ytVnLg",
        "colab_type": "code",
        "colab": {}
      },
      "cell_type": "code",
      "source": [
        "##train_woe.head()"
      ],
      "execution_count": 0,
      "outputs": []
    },
    {
      "metadata": {
        "id": "NBt0JxscV1_8",
        "colab_type": "text"
      },
      "cell_type": "markdown",
      "source": [
        "**IV Values Key:**\n",
        "- $IV < 0.02$: Remove.\n",
        "- $0.02 \\le IV < 0.1$: Remove.\n",
        "- $0.1 \\le IV < 0.3$: Keep.\n",
        "- $0.3 \\le IV < 1$: Keep.\n",
        "- $1 \\le IV $: Keep/Review. Study if error in calculation (i.e. WoE leaves a category with 100% goods or bads) or if variable is capturing future information."
      ]
    },
    {
      "metadata": {
        "id": "siYzhjSfVtma",
        "colab_type": "code",
        "colab": {}
      },
      "cell_type": "code",
      "source": [
        "sc.iv(train_woe, 'Default')"
      ],
      "execution_count": 0,
      "outputs": []
    },
    {
      "metadata": {
        "id": "R5jvhU_pWWGg",
        "colab_type": "code",
        "colab": {}
      },
      "cell_type": "code",
      "source": [
        "##Without Dropping Higher ROC 85% over 83%\n",
        "##Dropping IVs below 0.1\n",
        "##train_woe = train_woe.drop(['MortgageInsurancePercentage_woe',\n",
        "##                            'PropertyType_woe','OriginalUPB_woe',]\n",
        "##                           ,axis = 1)\n",
        "##test_woe = test_woe.drop(['MortgageInsurancePercentage_woe',\n",
        "##                          'PropertyType_woe','OriginalUPB_woe',]\n",
        "##                           ,axis = 1)\n",
        "##train_woe.head()"
      ],
      "execution_count": 0,
      "outputs": []
    },
    {
      "metadata": {
        "id": "-z2f8nO3WiAE",
        "colab_type": "code",
        "colab": {}
      },
      "cell_type": "code",
      "source": [
        "##test_woe.head()"
      ],
      "execution_count": 0,
      "outputs": []
    },
    {
      "metadata": {
        "id": "r8ZuMJXfXH61",
        "colab_type": "text"
      },
      "cell_type": "markdown",
      "source": [
        "**Logistic Regression:**"
      ]
    },
    {
      "metadata": {
        "id": "t73BdGpVcdoI",
        "colab_type": "code",
        "colab": {}
      },
      "cell_type": "code",
      "source": [
        "trainLog = train.copy()\n",
        "trainLog.shape"
      ],
      "execution_count": 0,
      "outputs": []
    },
    {
      "metadata": {
        "id": "ezubC-Coc1Ae",
        "colab_type": "code",
        "colab": {}
      },
      "cell_type": "code",
      "source": [
        "testLog = test.copy()\n",
        "testLog.shape"
      ],
      "execution_count": 0,
      "outputs": []
    },
    {
      "metadata": {
        "id": "9q8IEidkdgt6",
        "colab_type": "code",
        "colab": {}
      },
      "cell_type": "code",
      "source": [
        "trainLogWoe = train_woe.copy()\n",
        "trainLogWoe.shape"
      ],
      "execution_count": 0,
      "outputs": []
    },
    {
      "metadata": {
        "id": "jL9qx0dYdgKs",
        "colab_type": "code",
        "colab": {}
      },
      "cell_type": "code",
      "source": [
        "testLogWoe = test_woe.copy()\n",
        "testLogWoe.shape"
      ],
      "execution_count": 0,
      "outputs": []
    },
    {
      "metadata": {
        "id": "KB56nPSfVU5E",
        "colab_type": "code",
        "colab": {}
      },
      "cell_type": "code",
      "source": [
        "mdfm_logregA = LogisticRegression(penalty='l1', # Type of penalization l1 = lasso, l2 = ridge\n",
        "                                     tol=0.0001, # Tolerance for parameters\n",
        "                                     C=1.0, # Penalty constant, see below\n",
        "                                     fit_intercept=True, # Use constant?\n",
        "                                     class_weight='balanced', # Weights, see below\n",
        "                                     random_state=28845617, # Random seed\n",
        "                                     max_iter=100, # Maximum iterations\n",
        "                                     verbose=1, # Show process. 1 is yes.\n",
        "                                     solver = 'saga',\n",
        "                                     warm_start=False) # Train anew or start from previous weights. For repeated training. "
      ],
      "execution_count": 0,
      "outputs": []
    },
    {
      "metadata": {
        "id": "RA4DWY7kBtMo",
        "colab_type": "code",
        "colab": {}
      },
      "cell_type": "code",
      "source": [
        "##trainLogWoe.isna().sum()"
      ],
      "execution_count": 0,
      "outputs": []
    },
    {
      "metadata": {
        "id": "xDLLnJruXIEn",
        "colab_type": "code",
        "outputId": "4ba70db7-b794-4d9e-f125-97879ef9a772",
        "colab": {
          "base_uri": "https://localhost:8080/",
          "height": 185
        }
      },
      "cell_type": "code",
      "source": [
        "mdfm_logregA.fit(X = trainLogWoe.iloc[:,1:],\n",
        "                    y = trainLogWoe['Default'] # The target\n",
        "                   )"
      ],
      "execution_count": 0,
      "outputs": [
        {
          "output_type": "stream",
          "text": [
            "[Parallel(n_jobs=1)]: Using backend SequentialBackend with 1 concurrent workers.\n"
          ],
          "name": "stderr"
        },
        {
          "output_type": "stream",
          "text": [
            "max_iter reached after 16 seconds\n"
          ],
          "name": "stdout"
        },
        {
          "output_type": "stream",
          "text": [
            "/usr/local/lib/python3.6/dist-packages/sklearn/linear_model/sag.py:334: ConvergenceWarning: The max_iter was reached which means the coef_ did not converge\n",
            "  \"the coef_ did not converge\", ConvergenceWarning)\n",
            "[Parallel(n_jobs=1)]: Done   1 out of   1 | elapsed:   16.9s finished\n"
          ],
          "name": "stderr"
        },
        {
          "output_type": "execute_result",
          "data": {
            "text/plain": [
              "LogisticRegression(C=1.0, class_weight='balanced', dual=False,\n",
              "          fit_intercept=True, intercept_scaling=1, max_iter=100,\n",
              "          multi_class='warn', n_jobs=None, penalty='l1',\n",
              "          random_state=28845617, solver='saga', tol=0.0001, verbose=1,\n",
              "          warm_start=False)"
            ]
          },
          "metadata": {
            "tags": []
          },
          "execution_count": 135
        }
      ]
    },
    {
      "metadata": {
        "id": "IO0jMGW6Xh4W",
        "colab_type": "code",
        "colab": {}
      },
      "cell_type": "code",
      "source": [
        "coef_df = pd.concat([pd.DataFrame({'column': trainLogWoe.columns[1:]}), \n",
        "                    pd.DataFrame(np.transpose(mdfm_logregA.coef_))],\n",
        "                    axis = 1)\n",
        "coef_df"
      ],
      "execution_count": 0,
      "outputs": []
    },
    {
      "metadata": {
        "id": "sLSg8-eFXmME",
        "colab_type": "code",
        "colab": {}
      },
      "cell_type": "code",
      "source": [
        "mdfm_logregA.intercept_"
      ],
      "execution_count": 0,
      "outputs": []
    },
    {
      "metadata": {
        "id": "jelU1JZVP2MW",
        "colab_type": "code",
        "colab": {}
      },
      "cell_type": "code",
      "source": [
        "pred_class_train_log = mdfm_logregA.predict(trainLogWoe.iloc[:, 1:])\n",
        "probs_train_log = mdfm_logregA.predict_proba(trainLogWoe.iloc[:, 1:])\n",
        "print(probs_train_log, pred_class_train_log)"
      ],
      "execution_count": 0,
      "outputs": []
    },
    {
      "metadata": {
        "id": "q4dSSt3qXuio",
        "colab_type": "code",
        "colab": {}
      },
      "cell_type": "code",
      "source": [
        "pred_class_test_log = mdfm_logregA.predict(testLogWoe.iloc[:, 1:])\n",
        "probs_test_log = mdfm_logregA.predict_proba(testLogWoe.iloc[:, 1:])\n",
        "print(probs_test_log, pred_class_test_log)"
      ],
      "execution_count": 0,
      "outputs": []
    },
    {
      "metadata": {
        "id": "FBax4ZRfX2OY",
        "colab_type": "code",
        "colab": {}
      },
      "cell_type": "code",
      "source": [
        "##confusion_matrix(y_true = testLogWoe['Default'], y_pred = pred_class_test_log)"
      ],
      "execution_count": 0,
      "outputs": []
    },
    {
      "metadata": {
        "id": "X2_Et5lC33Gf",
        "colab_type": "code",
        "colab": {}
      },
      "cell_type": "code",
      "source": [
        "##Creating the confusion matrix for Logistic Regression\n",
        "##confusion_matrix_rf = confusion_matrix(y_true = testLogWoe['Default'], \n",
        "##                    y_pred = pred_class_test_log)\n",
        "##confusion_matrix_rf = confusion_matrix_rf.astype('float') / confusion_matrix_rf.sum(axis=1)[:, np.newaxis]\n",
        "##df_cm = pd.DataFrame(\n",
        "##        confusion_matrix_rf, index=['Safe', 'Default'], columns=['Safe', 'Default'],)\n",
        "##figsize = (10,7)\n",
        "##fontsize=14\n",
        "##fig = plt.figure(figsize=figsize)\n",
        "##heatmap = sns.heatmap(df_cm, annot=True, fmt='.2f')\n",
        "##heatmap.yaxis.set_ticklabels(heatmap.yaxis.get_ticklabels(), rotation=0, \n",
        "##                             ha='right', fontsize=fontsize)\n",
        "##heatmap.xaxis.set_ticklabels(heatmap.xaxis.get_ticklabels(), rotation=45,\n",
        "##                             ha='right', fontsize=fontsize)\n",
        "##plt.ylabel('True label')\n",
        "##plt.xlabel('Predicted label')\n",
        "##plt.show()"
      ],
      "execution_count": 0,
      "outputs": []
    },
    {
      "metadata": {
        "colab_type": "code",
        "id": "_Kaw7RxIPiMp",
        "colab": {}
      },
      "cell_type": "code",
      "source": [
        "roc_auc_score(y_true = trainLogWoe['Default'], y_score = probs_train_log[:,1])"
      ],
      "execution_count": 0,
      "outputs": []
    },
    {
      "metadata": {
        "colab_type": "code",
        "id": "WMLsONcJPiMs",
        "colab": {}
      },
      "cell_type": "code",
      "source": [
        "# Calculate the ROC curve points\n",
        "fpr, tpr, thresholds = roc_curve(trainLogWoe['Default'], probs_train_log[:,1])\n",
        "\n",
        "# Save the AUC in a variable to display it. Round it first\n",
        "auc = np.round(roc_auc_score(y_true = testLogWoe['Default'], \n",
        "                             y_score = probs_test_log[:,1]),\n",
        "              decimals = 3)\n",
        "\n",
        "# Create and show the plot\n",
        "plt.plot(fpr,tpr,label=\"MDFM Train, auc=\"+str(auc))\n",
        "plt.legend(loc=4)\n",
        "plt.show()"
      ],
      "execution_count": 0,
      "outputs": []
    },
    {
      "metadata": {
        "id": "fVZP4fAiX_aq",
        "colab_type": "code",
        "colab": {}
      },
      "cell_type": "code",
      "source": [
        "roc_auc_score(y_true = testLogWoe['Default'], y_score = probs_test_log[:,1])"
      ],
      "execution_count": 0,
      "outputs": []
    },
    {
      "metadata": {
        "id": "h2kDXyZ8YDWa",
        "colab_type": "code",
        "colab": {}
      },
      "cell_type": "code",
      "source": [
        "# Calculate the ROC curve points\n",
        "fpr, tpr, thresholds = roc_curve(testLogWoe['Default'], probs_test_log[:,1])\n",
        "\n",
        "# Save the AUC in a variable to display it. Round it first\n",
        "auc = np.round(roc_auc_score(y_true = testLogWoe['Default'], \n",
        "                             y_score = probs_test_log[:,1]),\n",
        "              decimals = 3)\n",
        "\n",
        "# Create and show the plot\n",
        "plt.plot(fpr,tpr,label=\"MDFM Test, auc=\"+str(auc))\n",
        "plt.legend(loc=4)\n",
        "plt.show()"
      ],
      "execution_count": 0,
      "outputs": []
    },
    {
      "metadata": {
        "id": "Zan4WANDfWR-",
        "colab_type": "text"
      },
      "cell_type": "markdown",
      "source": [
        "**Scorecard:**"
      ]
    },
    {
      "metadata": {
        "id": "fg-Tdls1YXgt",
        "colab_type": "code",
        "colab": {}
      },
      "cell_type": "code",
      "source": [
        "mdfm_sc = sc.scorecard(bins_adj, mdfm_logregA, \n",
        "             trainLogWoe.columns[1:], # The column names in the trained LR\n",
        "             points0=1000, # Base points\n",
        "             odds0=0.01, # Base odds\n",
        "             pdo=50) # PDO "
      ],
      "execution_count": 0,
      "outputs": []
    },
    {
      "metadata": {
        "id": "ZYqgJ1n4Ym_Y",
        "colab_type": "code",
        "colab": {}
      },
      "cell_type": "code",
      "source": [
        "mdfm_sc"
      ],
      "execution_count": 0,
      "outputs": []
    },
    {
      "metadata": {
        "id": "QUQXeO4RYr9k",
        "colab_type": "code",
        "colab": {}
      },
      "cell_type": "code",
      "source": [
        "train_score = sc.scorecard_ply(trainLog, mdfm_sc, \n",
        "                               print_step=0)\n",
        "test_score = sc.scorecard_ply(testLog, mdfm_sc, \n",
        "                               print_step=0)"
      ],
      "execution_count": 0,
      "outputs": []
    },
    {
      "metadata": {
        "id": "O29bFU4AY1_y",
        "colab_type": "code",
        "colab": {}
      },
      "cell_type": "code",
      "source": [
        "train_score.describe()"
      ],
      "execution_count": 0,
      "outputs": []
    }
  ]
}